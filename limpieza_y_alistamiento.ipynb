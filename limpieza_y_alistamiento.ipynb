{
 "cells": [
  {
   "cell_type": "markdown",
   "metadata": {},
   "source": [
    "# **LIMPIEZA Y ALISTAMIENTO**\n",
    "Este es el notebook para realizar la limpieza y el alistamiento de los datos."
   ]
  },
  {
   "cell_type": "markdown",
   "metadata": {},
   "source": [
    "## **Análisis Inicial**\n",
    "Primero, será necesario familiarizarse con los datos. Para ello, será necesario ver la descripción de las variables."
   ]
  },
  {
   "cell_type": "code",
   "execution_count": 2,
   "metadata": {},
   "outputs": [
    {
     "name": "stdout",
     "output_type": "stream",
     "text": [
      "01 date: Fecha en MM-DD-AAAA\n",
      "02 day: Día de la semana\n",
      "03 quarter: Una porción del mes. Un mes se dividió entre 4 y 5 partes.\n",
      "04 department: Departamento asociado a la instancia\n",
      "05 team_no: número de equipo asociado con la instancia\n",
      "06 no_of_workers: Número de trabajadores en cada equipo\n",
      "07 no_of_style_change: Número de cambios en el estilo de un producto en particular\n",
      "08 target_productivity: Productividad objetivo establecida para cada equipo para cada día.\n",
      "09 smv: Valor de minutos estándar, es el tiempo asignado para una tarea\n",
      "10 wip: Trabajo en progreso. Incluye la cantidad de elementos sin terminar.\n",
      "11 over_time: Representa la cantidad de tiempo extra de cada equipo en minutos.\n",
      "12 incentive: Representa la cantidad de incentivo financiero (en unidades monetarias).\n",
      "13 idle_time: La cantidad de tiempo durante el cual la producción estuvo interrumpida.\n",
      "14 idle_men: El número de trabajadores que estaban inactivos debido a la interrupción de la producción.\n",
      "15 actual_productivity: El % real de productividad que entregaron los trabajadores. Varía de 0 a 1.\n"
     ]
    }
   ],
   "source": [
    "import pandas as pd\n",
    "\n",
    "# Ruta del archivo que describe las variables\n",
    "ruta = \"datos/variables.txt\"\n",
    "\n",
    "# Leer el archivo\n",
    "descr_var = pd.read_csv(ruta, sep='\\t', header=None)\n",
    "\n",
    "# Imprimir la descripción de cada variable\n",
    "for index, row in descr_var.iterrows():\n",
    "    print(row[0])\n"
   ]
  },
  {
   "cell_type": "markdown",
   "metadata": {},
   "source": [
    "Habiendo hecho esto, ya es posible visualizar los datos y entenderlos superficialmente."
   ]
  },
  {
   "cell_type": "code",
   "execution_count": 13,
   "metadata": {},
   "outputs": [
    {
     "name": "stdout",
     "output_type": "stream",
     "text": [
      "       date   quarter  department       day  team  targeted_productivity  \\\n",
      "0  1/1/2015  Quarter1      sweing  Thursday     8                   0.80   \n",
      "1  1/1/2015  Quarter1  finishing   Thursday     1                   0.75   \n",
      "2  1/1/2015  Quarter1      sweing  Thursday    11                   0.80   \n",
      "3  1/1/2015  Quarter1      sweing  Thursday    12                   0.80   \n",
      "4  1/1/2015  Quarter1      sweing  Thursday     6                   0.80   \n",
      "\n",
      "     smv     wip  over_time  incentive  idle_time  idle_men  \\\n",
      "0  26.16  1108.0       7080         98        0.0         0   \n",
      "1   3.94     NaN        960          0        0.0         0   \n",
      "2  11.41   968.0       3660         50        0.0         0   \n",
      "3  11.41   968.0       3660         50        0.0         0   \n",
      "4  25.90  1170.0       1920         50        0.0         0   \n",
      "\n",
      "   no_of_style_change  no_of_workers  actual_productivity  \n",
      "0                   0           59.0             0.940725  \n",
      "1                   0            8.0             0.886500  \n",
      "2                   0           30.5             0.800570  \n",
      "3                   0           30.5             0.800570  \n",
      "4                   0           56.0             0.800382  \n"
     ]
    }
   ],
   "source": [
    "ruta = \"datos/data.txt\"                                 # Ruta del archivo de los datos\n",
    "datos_originales = pd.read_csv(ruta, sep=',', header=0) # Leer el archivo\n",
    "print(datos_originales.head())                          # Ver las primeras filas"
   ]
  },
  {
   "cell_type": "markdown",
   "metadata": {},
   "source": [
    "El siguiente bloque de código tiene el propósito de responder las siguientes preguntas sobre los datos:\n",
    "1. ¿Cuántos datos hay?\n",
    "2. ¿Qué representa cada fila?\n",
    "3. ¿Cuánto tiempo cubren los datos?"
   ]
  },
  {
   "cell_type": "code",
   "execution_count": 27,
   "metadata": {},
   "outputs": [
    {
     "name": "stdout",
     "output_type": "stream",
     "text": [
      "['1/1/2015' '1/3/2015' '1/4/2015' '1/5/2015' '1/6/2015' '1/7/2015'\n",
      " '1/8/2015' '1/10/2015' '1/11/2015' '1/12/2015' '1/13/2015' '1/14/2015'\n",
      " '1/15/2015' '1/17/2015' '1/18/2015' '1/19/2015' '1/20/2015' '1/21/2015'\n",
      " '1/22/2015' '1/24/2015' '1/25/2015' '1/26/2015' '1/27/2015' '1/28/2015'\n",
      " '1/29/2015' '1/31/2015' '2/1/2015' '2/2/2015' '2/3/2015' '2/4/2015'\n",
      " '2/5/2015' '2/7/2015' '2/8/2015' '2/9/2015' '2/10/2015' '2/11/2015'\n",
      " '2/12/2015' '2/14/2015' '2/15/2015' '2/16/2015' '2/17/2015' '2/18/2015'\n",
      " '2/19/2015' '2/22/2015' '2/23/2015' '2/24/2015' '2/25/2015' '2/26/2015'\n",
      " '2/28/2015' '3/1/2015' '3/2/2015' '3/3/2015' '3/4/2015' '3/5/2015'\n",
      " '3/7/2015' '3/8/2015' '3/9/2015' '3/10/2015' '3/11/2015']\n",
      "[ 8  1 11 12  6  7  2  3  9 10  5  4]\n",
      "\n",
      "RESPUESTA DE LAS PREGUNTAS:\n",
      "Hay 1197 filas en la base de datos.\n",
      "Cada fila representa un registro sobre índices de\n",
      "       productividad de algún equipo en un día.\n",
      "Hay registro desde enero hasta noviembre del 2015.\n"
     ]
    }
   ],
   "source": [
    "# Qué es cada fila?\n",
    "print(datos_originales['date'].unique())\n",
    "print(datos_originales['team'].unique())\n",
    "\n",
    "# Responder las preguntas\n",
    "print('\\nRESPUESTA DE LAS PREGUNTAS:')\n",
    "print(f\"Hay {datos_originales.shape[0]} filas en la base de datos.\")  # Num. filas datos\n",
    "print(f'''Cada fila representa un registro sobre índices de\n",
    "       productividad de algún equipo en un día.''')                   # Qué es cada fila\n",
    "print('Hay registro desde enero hasta noviembre del 2015.')           # Cuánto tiempo\n",
    " "
   ]
  },
  {
   "cell_type": "markdown",
   "metadata": {},
   "source": [
    "Teniendo en cuenta esta información, se proponen las siguientes preguntas de negocio:\n",
    "1. \t¿El número de trabajadores en un equipo y el incentivo mejoran el rendimiento (medido con el porcentaje real de productividad)? → Análisis descriptivo.\n",
    "2. ¿Cuál será el rendimiento de un equipo dada en una fecha futura? → Análisis predictivo.\n",
    "\n",
    "Teniendo claro el objetivo, ahora es posible proceder con la limpieza de los datos."
   ]
  },
  {
   "cell_type": "markdown",
   "metadata": {},
   "source": [
    "## **Limpieza de los Datos**\n",
    "Teniendo los datos guardados en un *data frame*, ahora es necesario quitar aquellas columnas que no son de utilidad para responder las preguntas. Estas son:\n",
    "1. *day*,\n",
    "2. *quarter*,\n",
    "3. *department*,\n",
    "4. *no_of_style_change*,\n",
    "5. *wip*,\n",
    "6. *idle_time*,\n",
    "7. *idle_men*.\n",
    "\n",
    "Entonces, se procederá a quitar estas columnas del *data frame*."
   ]
  },
  {
   "cell_type": "code",
   "execution_count": 31,
   "metadata": {},
   "outputs": [
    {
     "name": "stdout",
     "output_type": "stream",
     "text": [
      "['date' 'team' 'targeted_productivity' 'smv' 'over_time' 'incentive'\n",
      " 'no_of_workers' 'actual_productivity']\n"
     ]
    }
   ],
   "source": [
    "col_eliminar = ['day','quarter','department','no_of_style_change',\n",
    "                'wip','idle_time','idle_men']        # Nombre de las col que se eliminarán\n",
    "datos = datos_originales.drop(col_eliminar, axis=1)  # Borrar las columnas\n",
    "print(datos.columns.values)                          # Columnas restantes"
   ]
  }
 ],
 "metadata": {
  "kernelspec": {
   "display_name": "Python 3",
   "language": "python",
   "name": "python3"
  },
  "language_info": {
   "codemirror_mode": {
    "name": "ipython",
    "version": 3
   },
   "file_extension": ".py",
   "mimetype": "text/x-python",
   "name": "python",
   "nbconvert_exporter": "python",
   "pygments_lexer": "ipython3",
   "version": "3.11.5"
  }
 },
 "nbformat": 4,
 "nbformat_minor": 2
}
