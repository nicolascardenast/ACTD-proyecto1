{
 "cells": [
  {
   "cell_type": "markdown",
   "metadata": {},
   "source": [
    "# **LIMPIEZA Y ALISTAMIENTO**\n",
    "Este es el notebook para realizar la limpieza y el alistamiento de los datos."
   ]
  },
  {
   "cell_type": "markdown",
   "metadata": {},
   "source": [
    "## **Análisis Inicial**\n",
    "Primero, será necesario familiarizarse con los datos. Para ello, será necesario ver la descripción de las variables."
   ]
  },
  {
   "cell_type": "code",
   "execution_count": 11,
   "metadata": {},
   "outputs": [
    {
     "name": "stdout",
     "output_type": "stream",
     "text": [
      "01 date: Fecha en MM-DD-AAAA\n",
      "02 day: Día de la semana\n",
      "03 quarter: Una porción del mes. Un mes se dividió entre 4 y 5 partes.\n",
      "04 department: Departamento asociado a la instancia\n",
      "05 team_no: número de equipo asociado con la instancia\n",
      "06 no_of_workers: Número de trabajadores en cada equipo\n",
      "07 no_of_style_change: Número de cambios en el estilo de un producto en particular\n",
      "08 target_productivity: Productividad objetivo establecida para cada equipo para cada día.\n",
      "09 smv: Valor de minutos estándar, es el tiempo asignado para una tarea\n",
      "10 wip: Trabajo en progreso. Incluye la cantidad de elementos sin terminar.\n",
      "11 over_time: Representa la cantidad de tiempo extra de cada equipo en minutos.\n",
      "12 incentive: Representa la cantidad de incentivo financiero (en unidades monetarias).\n",
      "13 idle_time: La cantidad de tiempo durante el cual la producción estuvo interrumpida.\n",
      "14 idle_men: El número de trabajadores que estaban inactivos debido a la interrupción de la producción.\n",
      "15 actual_productivity: El % real de productividad que entregaron los trabajadores. Varía de 0 a 1.\n"
     ]
    }
   ],
   "source": [
    "import pandas as pd\n",
    "\n",
    "# Ruta del archivo que describe las variables\n",
    "ruta = \"datos/variables.txt\"\n",
    "\n",
    "# Leer el archivo\n",
    "descr_var = pd.read_csv(ruta, sep='\\t', header=None)\n",
    "\n",
    "# Imprimir la descripción de cada variable\n",
    "for index, row in descr_var.iterrows():\n",
    "    print(row[0])\n"
   ]
  },
  {
   "cell_type": "markdown",
   "metadata": {},
   "source": [
    "Habiendo hecho esto, ya es posible visualizar los datos y entenderlos superficialmente."
   ]
  },
  {
   "cell_type": "code",
   "execution_count": 16,
   "metadata": {},
   "outputs": [
    {
     "name": "stdout",
     "output_type": "stream",
     "text": [
      "       date   quarter  department       day  team  targeted_productivity  \\\n",
      "0  1/1/2015  Quarter1      sweing  Thursday     8                   0.80   \n",
      "1  1/1/2015  Quarter1  finishing   Thursday     1                   0.75   \n",
      "2  1/1/2015  Quarter1      sweing  Thursday    11                   0.80   \n",
      "3  1/1/2015  Quarter1      sweing  Thursday    12                   0.80   \n",
      "4  1/1/2015  Quarter1      sweing  Thursday     6                   0.80   \n",
      "\n",
      "     smv     wip  over_time  incentive  idle_time  idle_men  \\\n",
      "0  26.16  1108.0       7080         98        0.0         0   \n",
      "1   3.94     NaN        960          0        0.0         0   \n",
      "2  11.41   968.0       3660         50        0.0         0   \n",
      "3  11.41   968.0       3660         50        0.0         0   \n",
      "4  25.90  1170.0       1920         50        0.0         0   \n",
      "\n",
      "   no_of_style_change  no_of_workers  actual_productivity  \n",
      "0                   0           59.0             0.940725  \n",
      "1                   0            8.0             0.886500  \n",
      "2                   0           30.5             0.800570  \n",
      "3                   0           30.5             0.800570  \n",
      "4                   0           56.0             0.800382  \n"
     ]
    }
   ],
   "source": [
    "ruta = \"datos/data.txt\"                         # Ruta del archivo de los datos\n",
    "datos_originales = pd.read_csv(ruta, sep=',', header=0) # Leer el archivo\n",
    "print(datos_originales.head())                             # Ver las primeras filas"
   ]
  },
  {
   "cell_type": "markdown",
   "metadata": {},
   "source": [
    "Teniendo la información guardada en un *data frame*, ahora es necesario quitar aquellas columnas que no son de interés. Teniendo en cuenta que el usuario seleccionado es el área de recursos humanos, la siguiente información no será de utilidad:\n",
    "1. productividad objetivo;\n",
    "2. trabajo en progreso;\n",
    "3. tiempo de interrupción de la producción;\n",
    "4. número de trabajadores inactivos debido a una interrupción;\n",
    "5. porcentaje real de productividad.\n",
    "\n",
    "Entonces, se procederá a quitar estas columnas del *data frame*."
   ]
  },
  {
   "cell_type": "code",
   "execution_count": 19,
   "metadata": {},
   "outputs": [
    {
     "name": "stdout",
     "output_type": "stream",
     "text": [
      "Index(['date', 'quarter', 'department', 'day', 'team', 'smv', 'over_time',\n",
      "       'incentive', 'no_of_style_change', 'no_of_workers'],\n",
      "      dtype='object')\n"
     ]
    }
   ],
   "source": [
    "col_eliminar = ['targeted_productivity', 'wip', 'idle_time',\n",
    "                 'idle_men', 'actual_productivity'] # Nombre de las col que se eliminarán\n",
    "datos = datos_originales.drop(col_eliminar, axis=1) # Borrar las columnas\n",
    "print(datos.columns)"
   ]
  }
 ],
 "metadata": {
  "kernelspec": {
   "display_name": "Python 3",
   "language": "python",
   "name": "python3"
  },
  "language_info": {
   "codemirror_mode": {
    "name": "ipython",
    "version": 3
   },
   "file_extension": ".py",
   "mimetype": "text/x-python",
   "name": "python",
   "nbconvert_exporter": "python",
   "pygments_lexer": "ipython3",
   "version": "3.11.5"
  }
 },
 "nbformat": 4,
 "nbformat_minor": 2
}
