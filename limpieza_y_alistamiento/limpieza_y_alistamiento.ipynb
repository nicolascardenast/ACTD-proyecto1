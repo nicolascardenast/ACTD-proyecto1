{
 "cells": [
  {
   "cell_type": "markdown",
   "metadata": {},
   "source": [
    "# **LIMPIEZA Y ALISTAMIENTO**\n",
    "Este es el notebook para realizar la limpieza y el alistamiento de los datos."
   ]
  },
  {
   "cell_type": "markdown",
   "metadata": {},
   "source": [
    "## **Análisis Inicial**\n",
    "Primero, será necesario familiarizarse con los datos. Para ello, será necesario ver la descripción de las variables."
   ]
  },
  {
   "cell_type": "code",
   "execution_count": 38,
   "metadata": {},
   "outputs": [
    {
     "name": "stdout",
     "output_type": "stream",
     "text": [
      "01 date: Fecha en MM-DD-AAAA\n",
      "02 day: Día de la semana\n",
      "03 quarter: Una porción del mes. Un mes se dividió entre 4 y 5 partes.\n",
      "04 department: Departamento asociado a la instancia\n",
      "05 team_no: número de equipo asociado con la instancia\n",
      "06 no_of_workers: Número de trabajadores en cada equipo\n",
      "07 no_of_style_change: Número de cambios en el estilo de un producto en particular\n",
      "08 target_productivity: Productividad objetivo establecida para cada equipo para cada día.\n",
      "09 smv: Valor de minutos estándar, es el tiempo asignado para una tarea\n",
      "10 wip: Trabajo en progreso. Incluye la cantidad de elementos sin terminar.\n",
      "11 over_time: Representa la cantidad de tiempo extra de cada equipo en minutos.\n",
      "12 incentive: Representa la cantidad de incentivo financiero (en unidades monetarias).\n",
      "13 idle_time: La cantidad de tiempo durante el cual la producción estuvo interrumpida.\n",
      "14 idle_men: El número de trabajadores que estaban inactivos debido a la interrupción de la producción.\n",
      "15 actual_productivity: El % real de productividad que entregaron los trabajadores. Varía de 0 a 1.\n"
     ]
    }
   ],
   "source": [
    "import pandas as pd\n",
    "import os\n",
    "\n",
    "# Obtener el directorio del directorio padre\n",
    "directorio_padre = os.path.dirname(os.getcwd())\n",
    "\n",
    "# Ruta del archivo que describe las variables\n",
    "ruta = directorio_padre + '\\\\datos\\\\variables.txt'\n",
    "\n",
    "# Leer el archivo\n",
    "descr_var = pd.read_csv(ruta, sep='\\t', header=None)\n",
    "\n",
    "# Imprimir la descripción de cada variable\n",
    "for index, row in descr_var.iterrows():\n",
    "    print(row[0])"
   ]
  },
  {
   "cell_type": "markdown",
   "metadata": {},
   "source": [
    "También es necesario visualizar los datos por encima y entenderlos superficialmente."
   ]
  },
  {
   "cell_type": "code",
   "execution_count": 39,
   "metadata": {},
   "outputs": [
    {
     "name": "stdout",
     "output_type": "stream",
     "text": [
      "       date   quarter  department       day  team  targeted_productivity  \\\n",
      "0  1/1/2015  Quarter1      sweing  Thursday     8                   0.80   \n",
      "1  1/1/2015  Quarter1  finishing   Thursday     1                   0.75   \n",
      "2  1/1/2015  Quarter1      sweing  Thursday    11                   0.80   \n",
      "3  1/1/2015  Quarter1      sweing  Thursday    12                   0.80   \n",
      "4  1/1/2015  Quarter1      sweing  Thursday     6                   0.80   \n",
      "\n",
      "     smv     wip  over_time  incentive  idle_time  idle_men  \\\n",
      "0  26.16  1108.0       7080         98        0.0         0   \n",
      "1   3.94     NaN        960          0        0.0         0   \n",
      "2  11.41   968.0       3660         50        0.0         0   \n",
      "3  11.41   968.0       3660         50        0.0         0   \n",
      "4  25.90  1170.0       1920         50        0.0         0   \n",
      "\n",
      "   no_of_style_change  no_of_workers  actual_productivity  \n",
      "0                   0           59.0             0.940725  \n",
      "1                   0            8.0             0.886500  \n",
      "2                   0           30.5             0.800570  \n",
      "3                   0           30.5             0.800570  \n",
      "4                   0           56.0             0.800382  \n"
     ]
    }
   ],
   "source": [
    "ruta = directorio_padre + \"\\\\datos\\\\data.txt\"               # Ruta del archivo de los datos\n",
    "datos_originales = pd.read_csv(ruta, sep=',', header=0)     # Leer el archivo\n",
    "print(datos_originales.head())                              # Ver las primeras filas"
   ]
  },
  {
   "cell_type": "markdown",
   "metadata": {},
   "source": [
    "El siguiente bloque de código tiene el propósito de responder las siguientes preguntas:\n",
    "1. ¿Cuántos datos hay?\n",
    "2. ¿Qué representa cada fila?\n",
    "3. ¿Cuánto tiempo cubren los datos?"
   ]
  },
  {
   "cell_type": "code",
   "execution_count": 40,
   "metadata": {},
   "outputs": [
    {
     "name": "stdout",
     "output_type": "stream",
     "text": [
      "['1/1/2015' '1/3/2015' '1/4/2015' '1/5/2015' '1/6/2015' '1/7/2015'\n",
      " '1/8/2015' '1/10/2015' '1/11/2015' '1/12/2015' '1/13/2015' '1/14/2015'\n",
      " '1/15/2015' '1/17/2015' '1/18/2015' '1/19/2015' '1/20/2015' '1/21/2015'\n",
      " '1/22/2015' '1/24/2015' '1/25/2015' '1/26/2015' '1/27/2015' '1/28/2015'\n",
      " '1/29/2015' '1/31/2015' '2/1/2015' '2/2/2015' '2/3/2015' '2/4/2015'\n",
      " '2/5/2015' '2/7/2015' '2/8/2015' '2/9/2015' '2/10/2015' '2/11/2015'\n",
      " '2/12/2015' '2/14/2015' '2/15/2015' '2/16/2015' '2/17/2015' '2/18/2015'\n",
      " '2/19/2015' '2/22/2015' '2/23/2015' '2/24/2015' '2/25/2015' '2/26/2015'\n",
      " '2/28/2015' '3/1/2015' '3/2/2015' '3/3/2015' '3/4/2015' '3/5/2015'\n",
      " '3/7/2015' '3/8/2015' '3/9/2015' '3/10/2015' '3/11/2015']\n",
      "[ 8  1 11 12  6  7  2  3  9 10  5  4]\n",
      "\n",
      "RESPUESTA DE LAS PREGUNTAS:\n",
      "Hay 1197 filas en la base de datos.\n",
      "Cada fila representa un registro sobre índices de\n",
      "       productividad de algún equipo en un día.\n",
      "Hay registro desde enero hasta marzo del 2015.\n"
     ]
    }
   ],
   "source": [
    "# Qué es cada fila?\n",
    "print(datos_originales['date'].unique())\n",
    "print(datos_originales['team'].unique())\n",
    "\n",
    "# Responder las preguntas\n",
    "print('\\nRESPUESTA DE LAS PREGUNTAS:')\n",
    "print(f\"Hay {datos_originales.shape[0]} filas en la base de datos.\")  # Num. filas datos\n",
    "print(f'''Cada fila representa un registro sobre índices de\n",
    "       productividad de algún equipo en un día.''')                   # Qué es cada fila\n",
    "print('Hay registro desde enero hasta marzo del 2015.')               # Cuánto tiempo"
   ]
  },
  {
   "cell_type": "markdown",
   "metadata": {},
   "source": [
    "Teniendo en cuenta esta información, se proponen las siguientes preguntas de negocio:\n",
    "1. \t¿El número de trabajadores en un equipo y el incentivo mejoran el rendimiento (medido con el porcentaje real de productividad)? → Análisis descriptivo.\n",
    "2. ¿Cuál será el rendimiento de un equipo dada en una fecha futura? → Análisis predictivo.\n",
    "\n",
    "Teniendo claros los dos objetivos, ahora se procederá con la limpieza de los datos."
   ]
  },
  {
   "cell_type": "markdown",
   "metadata": {},
   "source": [
    "# **Limpieza de los Datos**\n",
    "Teniendo los datos guardados en un *data frame*, se procede a quitar aquellas columnas que no son de utilidad para responder las preguntas. Estas son:\n",
    "1. *quarter*,\n",
    "2. *no_of_style_change*,\n",
    "3. *wip*,\n",
    "4. *idle_time*,\n",
    "5. *idle_men*."
   ]
  },
  {
   "cell_type": "code",
   "execution_count": 41,
   "metadata": {},
   "outputs": [
    {
     "name": "stdout",
     "output_type": "stream",
     "text": [
      "['date' 'department' 'day' 'team' 'targeted_productivity' 'smv'\n",
      " 'over_time' 'incentive' 'no_of_workers' 'actual_productivity']\n",
      "       date  department       day  team  targeted_productivity    smv  \\\n",
      "0  1/1/2015      sweing  Thursday     8                   0.80  26.16   \n",
      "1  1/1/2015  finishing   Thursday     1                   0.75   3.94   \n",
      "2  1/1/2015      sweing  Thursday    11                   0.80  11.41   \n",
      "3  1/1/2015      sweing  Thursday    12                   0.80  11.41   \n",
      "4  1/1/2015      sweing  Thursday     6                   0.80  25.90   \n",
      "\n",
      "   over_time  incentive  no_of_workers  actual_productivity  \n",
      "0       7080         98           59.0             0.940725  \n",
      "1        960          0            8.0             0.886500  \n",
      "2       3660         50           30.5             0.800570  \n",
      "3       3660         50           30.5             0.800570  \n",
      "4       1920         50           56.0             0.800382  \n"
     ]
    }
   ],
   "source": [
    "col_eliminar = ['quarter','no_of_style_change',\n",
    "                'wip','idle_time','idle_men']        # Columnas que se borrarán\n",
    "\n",
    "datos = datos_originales.drop(col_eliminar, axis=1)  # Borrar las columnas\n",
    "print(datos.columns.values)                          # Columnas restantes\n",
    "print(datos.head())"
   ]
  },
  {
   "cell_type": "markdown",
   "metadata": {},
   "source": [
    "## **Datos Faltantes**\n",
    "Se procederá a manejar los datos faltantes."
   ]
  },
  {
   "cell_type": "code",
   "execution_count": 42,
   "metadata": {},
   "outputs": [
    {
     "name": "stdout",
     "output_type": "stream",
     "text": [
      "date                     0\n",
      "department               0\n",
      "day                      0\n",
      "team                     0\n",
      "targeted_productivity    0\n",
      "smv                      0\n",
      "over_time                0\n",
      "incentive                0\n",
      "no_of_workers            0\n",
      "actual_productivity      0\n",
      "dtype: int64\n"
     ]
    }
   ],
   "source": [
    "print(datos.isna().sum())   # Imprimir número de datos faltantes"
   ]
  },
  {
   "cell_type": "markdown",
   "metadata": {},
   "source": [
    "No hay datos faltantes en las columnas que se van a usar. Por ende, no es necesario preocuparse por este problema.\n",
    "## **Formato de los Datos**\n",
    "Ahora, se procederá a revisar en qué formato se encuentran los datos."
   ]
  },
  {
   "cell_type": "code",
   "execution_count": 43,
   "metadata": {},
   "outputs": [
    {
     "name": "stdout",
     "output_type": "stream",
     "text": [
      "<class 'pandas.core.frame.DataFrame'>\n",
      "RangeIndex: 1197 entries, 0 to 1196\n",
      "Data columns (total 10 columns):\n",
      " #   Column                 Non-Null Count  Dtype  \n",
      "---  ------                 --------------  -----  \n",
      " 0   date                   1197 non-null   object \n",
      " 1   department             1197 non-null   object \n",
      " 2   day                    1197 non-null   object \n",
      " 3   team                   1197 non-null   int64  \n",
      " 4   targeted_productivity  1197 non-null   float64\n",
      " 5   smv                    1197 non-null   float64\n",
      " 6   over_time              1197 non-null   int64  \n",
      " 7   incentive              1197 non-null   int64  \n",
      " 8   no_of_workers          1197 non-null   float64\n",
      " 9   actual_productivity    1197 non-null   float64\n",
      "dtypes: float64(4), int64(3), object(3)\n",
      "memory usage: 93.6+ KB\n"
     ]
    }
   ],
   "source": [
    "datos.info()"
   ]
  },
  {
   "cell_type": "code",
   "execution_count": 44,
   "metadata": {},
   "outputs": [
    {
     "name": "stdout",
     "output_type": "stream",
     "text": [
      "1/1/2015\n",
      "57.5\n"
     ]
    }
   ],
   "source": [
    "print(datos['date'][7])\n",
    "print(datos['no_of_workers'][7])"
   ]
  },
  {
   "cell_type": "markdown",
   "metadata": {},
   "source": [
    "Se pueden realizar las siguientes observaciones:\n",
    "1. Las fechas tienen un formato difícil de manejar. Es necesario modificarlas para que sea posible manipularlas posteriormente.\n",
    "2. El número de trabajadores de cada equipo es un número decimal. Hay valores como 57.5. Esto no tiene sentido, debería ser un valor entero. Por ende, es necesario arreglarlos también.\n",
    "### **Arreglo: Fecha**\n",
    "Para empezar, es necesario analizar en qué formato están las fechas. Para ello, se imprimirán los valores de esta columna en un archivo de Excel para poder visualizarlos todos. "
   ]
  },
  {
   "cell_type": "code",
   "execution_count": 45,
   "metadata": {},
   "outputs": [],
   "source": [
    "from pandas import ExcelWriter\n",
    "with ExcelWriter('col_date.xlsx') as writer:\n",
    "        datos_originales['date'].to_excel(writer, index=False)"
   ]
  },
  {
   "cell_type": "markdown",
   "metadata": {},
   "source": [
    "Se evidencia que en la fila 218 está la fecha \"1/13/2015\". Entonces, se puede concluir que los valores están en formato \"mes/día/año\", es decir, el formato americano. Sabiendo esto, ahora es posible cambiar el formato de toda la columna. Para ello, se usará la función `to_datetime`."
   ]
  },
  {
   "cell_type": "code",
   "execution_count": 46,
   "metadata": {},
   "outputs": [
    {
     "name": "stdout",
     "output_type": "stream",
     "text": [
      "2015-01-13 00:00:00\n"
     ]
    }
   ],
   "source": [
    "from pandas import to_datetime\n",
    "\n",
    "# Borrar el archivo creado anteriormente. Ya no es necesario\n",
    "os.remove(os.path.join(os.getcwd(), 'col_date.xlsx'))\n",
    "\n",
    "datos['date'] = to_datetime(datos['date'], format='%m/%d/%Y')\n",
    "print(datos['date'][218])"
   ]
  },
  {
   "cell_type": "markdown",
   "metadata": {},
   "source": [
    "Ahora, los datos están en un tipo de dato mucho más manejable. Sin embargo, si se quieren hacer modelos matemáticos, será necesario hacerles un último cambio.\n",
    "\n",
    "Sería ideal que una fecha se pudiera representar con un número. Podría asignarse a cada fecha el día del año que le corresponde. Por ejemplo, a la fecha '2015-01-01' le corresponde el 1, a '2015-01-02' le corresponde el 32, y así sucesivamente. Esto puede lograrse con la función `dayofyear` de Pandas."
   ]
  },
  {
   "cell_type": "code",
   "execution_count": 47,
   "metadata": {},
   "outputs": [
    {
     "name": "stdout",
     "output_type": "stream",
     "text": [
      "Ejemplo: 2015-03-11 00:00:00  ->  70.\n"
     ]
    }
   ],
   "source": [
    "datos['dia_del_año'] = datos['date'].dt.dayofyear\n",
    "print(f\"Ejemplo: {datos['date'][1196]}  ->  {datos['dia_del_año'][1196]}.\")"
   ]
  },
  {
   "cell_type": "markdown",
   "metadata": {},
   "source": [
    "### **Arreglo: Número de Empleados**\n",
    "Para finalizar, es necesario modificar la columna `no_of_workers`. Esto se logra simplemente redondeando cada valor al entero menor. "
   ]
  },
  {
   "cell_type": "code",
   "execution_count": 48,
   "metadata": {},
   "outputs": [
    {
     "name": "stdout",
     "output_type": "stream",
     "text": [
      "   over_time  actual_productivity\n",
      "0       7080             0.940725\n",
      "1        960             0.886500\n",
      "2       3660             0.800570\n",
      "3       3660             0.800570\n",
      "4       1920             0.800382\n"
     ]
    }
   ],
   "source": [
    "import numpy as np\n",
    "datos['no_of_workers_redondeado'] = np.floor(datos['no_of_workers']).astype(int)\n",
    "print(datos.iloc[:, [6,9]].head())"
   ]
  },
  {
   "cell_type": "markdown",
   "metadata": {},
   "source": [
    "La columna original de datos (`no_of_workers`) ya no será de utilidad, por lo que puede borrarse."
   ]
  },
  {
   "cell_type": "code",
   "execution_count": 49,
   "metadata": {},
   "outputs": [
    {
     "name": "stdout",
     "output_type": "stream",
     "text": [
      "        date  department       day  team  targeted_productivity    smv  \\\n",
      "0 2015-01-01      sweing  Thursday     8                   0.80  26.16   \n",
      "1 2015-01-01  finishing   Thursday     1                   0.75   3.94   \n",
      "2 2015-01-01      sweing  Thursday    11                   0.80  11.41   \n",
      "3 2015-01-01      sweing  Thursday    12                   0.80  11.41   \n",
      "4 2015-01-01      sweing  Thursday     6                   0.80  25.90   \n",
      "\n",
      "   over_time  incentive  actual_productivity  dia_del_año  \\\n",
      "0       7080         98             0.940725            1   \n",
      "1        960          0             0.886500            1   \n",
      "2       3660         50             0.800570            1   \n",
      "3       3660         50             0.800570            1   \n",
      "4       1920         50             0.800382            1   \n",
      "\n",
      "   no_of_workers_redondeado  \n",
      "0                        59  \n",
      "1                         8  \n",
      "2                        30  \n",
      "3                        30  \n",
      "4                        56  \n"
     ]
    }
   ],
   "source": [
    "datos = datos.drop('no_of_workers',axis=1)\n",
    "print(datos.head())"
   ]
  },
  {
   "cell_type": "markdown",
   "metadata": {},
   "source": [
    "## **Guardar los Datos Limpios**\n",
    "Una vez limpiados y alistados los datos, es pertinente guardarlos en un nuevo archivo."
   ]
  },
  {
   "cell_type": "code",
   "execution_count": 50,
   "metadata": {},
   "outputs": [],
   "source": [
    "datos.to_csv(directorio_padre + '\\\\datos\\\\datos_limpios.csv', index=False)"
   ]
  }
 ],
 "metadata": {
  "kernelspec": {
   "display_name": "Python 3",
   "language": "python",
   "name": "python3"
  },
  "language_info": {
   "codemirror_mode": {
    "name": "ipython",
    "version": 3
   },
   "file_extension": ".py",
   "mimetype": "text/x-python",
   "name": "python",
   "nbconvert_exporter": "python",
   "pygments_lexer": "ipython3",
   "version": "3.11.5"
  }
 },
 "nbformat": 4,
 "nbformat_minor": 2
}
